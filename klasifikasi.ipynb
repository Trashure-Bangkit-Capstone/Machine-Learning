{
 "cells": [
  {
   "cell_type": "markdown",
   "metadata": {},
   "source": [
    "Trashure"
   ]
  },
  {
   "cell_type": "code",
   "execution_count": null,
   "metadata": {},
   "outputs": [],
   "source": [
    "import matplotlib.pyplot as plt\n",
    "import numpy as np\n",
    "import os\n",
    "from PIL import Image\n",
    "import shutil\n",
    "from shutil import copyfile\n",
    "import random\n",
    "import tensorflow as tf\n",
    "from tensorflow.keras.preprocessing.image import ImageDataGenerator\n",
    "from PIL import Image"
   ]
  },
  {
   "cell_type": "markdown",
   "metadata": {},
   "source": [
    "Baca Data"
   ]
  },
  {
   "cell_type": "code",
   "execution_count": null,
   "metadata": {},
   "outputs": [],
   "source": [
    "source_path = ''\n",
    "\n",
    "\n",
    "list=[]\n",
    "\n",
    "for i in os.listdir(source_path):\n",
    "    source_path_item = os.path.join(source_path, i)\n",
    "    n = 0\n",
    "    for j in os.listdir(source_path_item):\n",
    "        if j[-3:] == \"jpg\" or j[-3:] == \"gif\":\n",
    "            im = Image.open(os.path.join(source_path_item, j)).convert(\"RGB\")\n",
    "            im.save(os.path.join(source_path_item, j[:-3]+'jpeg'))\n",
    "               \n",
    "            os.remove(os.path.join(source_path_item, j))\n",
    "            n += 1\n",
    "\n",
    "    print(\"Convert Successful\")\n",
    "    print(\"Converted image =\",n)\n",
    "    print(f\"There are {len(os.listdir(source_path_item))} images of\", i + \".\\n\")\n",
    "    list.append(i)"
   ]
  }
 ],
 "metadata": {
  "kernelspec": {
   "display_name": "Python 3",
   "language": "python",
   "name": "python3"
  },
  "language_info": {
   "name": "python",
   "version": "3.11.3"
  }
 },
 "nbformat": 4,
 "nbformat_minor": 2
}
