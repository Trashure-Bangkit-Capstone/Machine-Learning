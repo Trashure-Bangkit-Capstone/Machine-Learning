{
 "cells": [
  {
   "cell_type": "markdown",
   "metadata": {},
   "source": [
    "Trashure"
   ]
  },
  {
   "cell_type": "code",
   "execution_count": 2,
   "metadata": {},
   "outputs": [],
   "source": [
    "import matplotlib.pyplot as plt\n",
    "import numpy as np\n",
    "import os\n",
    "from PIL import Image\n",
    "import shutil\n",
    "from shutil import copyfile\n",
    "import random\n",
    "import tensorflow as tf\n",
    "from tensorflow.keras.preprocessing.image import ImageDataGenerator\n",
    "from PIL import Image\n",
    "from scipy import ceil\n",
    "import scipy"
   ]
  },
  {
   "cell_type": "markdown",
   "metadata": {},
   "source": [
    "Baca Data"
   ]
  },
  {
   "cell_type": "code",
   "execution_count": 3,
   "metadata": {},
   "outputs": [
    {
     "name": "stdout",
     "output_type": "stream",
     "text": [
      "Convert Successful\n",
      "Converted image = 0\n",
      "There are 10 images of botol.\n",
      "\n",
      "Convert Successful\n",
      "Converted image = 0\n",
      "There are 6 images of kaleng.\n",
      "\n",
      "Convert Successful\n",
      "Converted image = 0\n",
      "There are 6 images of Organik.\n",
      "\n"
     ]
    }
   ],
   "source": [
    "source_path = 'Data'\n",
    "\n",
    "\n",
    "list=[]\n",
    "\n",
    "for i in os.listdir(source_path):\n",
    "    source_path_item = os.path.join(source_path, i)\n",
    "    n = 0\n",
    "    for j in os.listdir(source_path_item):\n",
    "        if j[-3:] == \"jpg\" or j[-3:] == \"gif\":\n",
    "            im = Image.open(os.path.join(source_path_item, j)).convert(\"RGB\")\n",
    "            im.save(os.path.join(source_path_item, j[:-3]+'jpeg'))\n",
    "               \n",
    "            os.remove(os.path.join(source_path_item, j))\n",
    "            n += 1\n",
    "\n",
    "    print(\"Convert Successful\")\n",
    "    print(\"Converted image =\",n)\n",
    "    print(f\"There are {len(os.listdir(source_path_item))} images of\", i + \".\\n\")\n",
    "    list.append(i)"
   ]
  },
  {
   "cell_type": "code",
   "execution_count": 4,
   "metadata": {},
   "outputs": [],
   "source": [
    "root_dir = './temp'\n",
    "\n",
    "if os.path.exists(root_dir):\n",
    "    shutil.rmtree(root_dir)\n",
    "\n",
    "for i in list:\n",
    "    os.makedirs(os.path.join(root_dir,\"train\",i))\n",
    "    os.makedirs(os.path.join(root_dir,\"validation\",i))"
   ]
  },
  {
   "cell_type": "code",
   "execution_count": 5,
   "metadata": {},
   "outputs": [],
   "source": [
    "def split_data(SOURCE_DIR, TRAINING_DIR, VALIDATION_DIR, SPLIT_SIZE):\n",
    "\n",
    "  random_sample=random.sample(os.listdir(SOURCE_DIR),len(os.listdir(SOURCE_DIR)))\n",
    "\n",
    "  size=int(len(random_sample)*SPLIT_SIZE)\n",
    "\n",
    "  target=TRAINING_DIR\n",
    "  i=0\n",
    "\n",
    "  for item in random_sample:\n",
    "    \n",
    "    item_source = os.path.join(SOURCE_DIR, item)\n",
    "\n",
    "    if os.path.getsize(item_source) == 0:\n",
    "      print(f'{item} is zero length, so ignoring.')\n",
    "    else: \n",
    "      copyfile(item_source, os.path.join(target, item))\n",
    "      i += 1\n",
    "\n",
    "    if i == size:\n",
    "      target = VALIDATION_DIR"
   ]
  },
  {
   "cell_type": "code",
   "execution_count": 6,
   "metadata": {},
   "outputs": [
    {
     "name": "stdout",
     "output_type": "stream",
     "text": [
      "Split botol Successful\n",
      "There are 8 images of botol for training.\n",
      "There are 2 images of botol for validation.\n",
      "\n",
      "Split kaleng Successful\n",
      "There are 4 images of kaleng for training.\n",
      "There are 2 images of kaleng for validation.\n",
      "\n",
      "Split Organik Successful\n",
      "There are 4 images of Organik for training.\n",
      "There are 2 images of Organik for validation.\n",
      "\n"
     ]
    }
   ],
   "source": [
    "train_dir = os.path.join(root_dir,\"train\")\n",
    "val_dir = os.path.join(root_dir,\"validation\")\n",
    "\n",
    "for i in os.listdir(train_dir):\n",
    "  path = os.path.join(train_dir,i)\n",
    "  if len(os.listdir(path))>0:\n",
    "    for file in os.scandir(path):\n",
    "      os.remove(file.path)\n",
    "\n",
    "for i in os.listdir(val_dir):\n",
    "  path = os.path.join(val_dir,i)\n",
    "  if len(os.listdir(path))>0:\n",
    "    for file in os.scandir(path):\n",
    "      os.remove(file.path)\n",
    "\n",
    "split_size = .8\n",
    "\n",
    "for i in list:\n",
    "  split_data(os.path.join(source_path,i), os.path.join(train_dir, i), os.path.join(val_dir, i), split_size)\n",
    "  print(\"Split\", i, \"Successful\")\n",
    "  print(f\"There are {len(os.listdir(os.path.join(train_dir,i)))} images of\", i + \" for training.\")\n",
    "  print(f\"There are {len(os.listdir(os.path.join(val_dir,i)))} images of\", i + \" for validation.\\n\")"
   ]
  },
  {
   "cell_type": "code",
   "execution_count": 7,
   "metadata": {},
   "outputs": [
    {
     "name": "stdout",
     "output_type": "stream",
     "text": [
      "WARNING:tensorflow:From c:\\Users\\Devan\\AppData\\Local\\Programs\\Python\\Python311\\Lib\\site-packages\\keras\\src\\backend.py:1398: The name tf.executing_eagerly_outside_functions is deprecated. Please use tf.compat.v1.executing_eagerly_outside_functions instead.\n",
      "\n",
      "WARNING:tensorflow:From c:\\Users\\Devan\\AppData\\Local\\Programs\\Python\\Python311\\Lib\\site-packages\\keras\\src\\layers\\pooling\\max_pooling2d.py:161: The name tf.nn.max_pool is deprecated. Please use tf.nn.max_pool2d instead.\n",
      "\n"
     ]
    }
   ],
   "source": [
    "NUM_CLASSES = len(os.listdir(source_path))\n",
    "\n",
    "BATCH_SIZE = 60\n",
    "\n",
    "base_model = tf.keras.applications.VGG16(input_shape=(225,225,3),\n",
    "                                         include_top=False,\n",
    "                                         weights='imagenet')"
   ]
  },
  {
   "cell_type": "code",
   "execution_count": 7,
   "metadata": {},
   "outputs": [
    {
     "name": "stdout",
     "output_type": "stream",
     "text": [
      "Model: \"vgg16\"\n",
      "_________________________________________________________________\n",
      " Layer (type)                Output Shape              Param #   \n",
      "=================================================================\n",
      " input_1 (InputLayer)        [(None, 225, 225, 3)]     0         \n",
      "                                                                 \n",
      " block1_conv1 (Conv2D)       (None, 225, 225, 64)      1792      \n",
      "                                                                 \n",
      " block1_conv2 (Conv2D)       (None, 225, 225, 64)      36928     \n",
      "                                                                 \n",
      " block1_pool (MaxPooling2D)  (None, 112, 112, 64)      0         \n",
      "                                                                 \n",
      " block2_conv1 (Conv2D)       (None, 112, 112, 128)     73856     \n",
      "                                                                 \n",
      " block2_conv2 (Conv2D)       (None, 112, 112, 128)     147584    \n",
      "                                                                 \n",
      " block2_pool (MaxPooling2D)  (None, 56, 56, 128)       0         \n",
      "                                                                 \n",
      " block3_conv1 (Conv2D)       (None, 56, 56, 256)       295168    \n",
      "                                                                 \n",
      " block3_conv2 (Conv2D)       (None, 56, 56, 256)       590080    \n",
      "                                                                 \n",
      " block3_conv3 (Conv2D)       (None, 56, 56, 256)       590080    \n",
      "                                                                 \n",
      " block3_pool (MaxPooling2D)  (None, 28, 28, 256)       0         \n",
      "                                                                 \n",
      " block4_conv1 (Conv2D)       (None, 28, 28, 512)       1180160   \n",
      "                                                                 \n",
      " block4_conv2 (Conv2D)       (None, 28, 28, 512)       2359808   \n",
      "                                                                 \n",
      " block4_conv3 (Conv2D)       (None, 28, 28, 512)       2359808   \n",
      "                                                                 \n",
      " block4_pool (MaxPooling2D)  (None, 14, 14, 512)       0         \n",
      "                                                                 \n",
      " block5_conv1 (Conv2D)       (None, 14, 14, 512)       2359808   \n",
      "                                                                 \n",
      " block5_conv2 (Conv2D)       (None, 14, 14, 512)       2359808   \n",
      "                                                                 \n",
      " block5_conv3 (Conv2D)       (None, 14, 14, 512)       2359808   \n",
      "                                                                 \n",
      " block5_pool (MaxPooling2D)  (None, 7, 7, 512)         0         \n",
      "                                                                 \n",
      "=================================================================\n",
      "Total params: 14714688 (56.13 MB)\n",
      "Trainable params: 14714688 (56.13 MB)\n",
      "Non-trainable params: 0 (0.00 Byte)\n",
      "_________________________________________________________________\n"
     ]
    }
   ],
   "source": [
    "base_model.summary()"
   ]
  },
  {
   "cell_type": "code",
   "execution_count": 8,
   "metadata": {},
   "outputs": [],
   "source": [
    "last_desired_layer = base_model.get_layer(\"block5_pool\")\n",
    "\n",
    "last_output = last_desired_layer.output"
   ]
  },
  {
   "cell_type": "code",
   "execution_count": 9,
   "metadata": {},
   "outputs": [
    {
     "name": "stdout",
     "output_type": "stream",
     "text": [
      "WARNING:tensorflow:From c:\\Users\\Devan\\AppData\\Local\\Programs\\Python\\Python311\\Lib\\site-packages\\keras\\src\\optimizers\\__init__.py:309: The name tf.train.Optimizer is deprecated. Please use tf.compat.v1.train.Optimizer instead.\n",
      "\n"
     ]
    }
   ],
   "source": [
    "for layer in base_model.layers:\n",
    " layer.trainable = False\n",
    "x = tf.keras.layers.Flatten()(last_output)\n",
    "x = tf.keras.layers.Dense(256, activation = 'relu')(x)\n",
    "x = tf.keras.layers.Dense(128, activation = 'relu')(x)\n",
    "x = tf.keras.layers.Dense(64, activation = 'relu')(x) \n",
    "x = tf.keras.layers.Dense(32, activation = 'relu')(x)\n",
    "x = tf.keras.layers.Dense(NUM_CLASSES, activation = 'softmax')(x) \n",
    "\n",
    "model = tf.keras.models.Model(inputs = base_model.input, outputs = x)\n",
    "\n",
    "model.compile(loss='categorical_crossentropy', optimizer='adam', metrics=['accuracy'])"
   ]
  },
  {
   "cell_type": "code",
   "execution_count": 10,
   "metadata": {},
   "outputs": [
    {
     "name": "stdout",
     "output_type": "stream",
     "text": [
      "Model: \"model\"\n",
      "_________________________________________________________________\n",
      " Layer (type)                Output Shape              Param #   \n",
      "=================================================================\n",
      " input_1 (InputLayer)        [(None, 225, 225, 3)]     0         \n",
      "                                                                 \n",
      " block1_conv1 (Conv2D)       (None, 225, 225, 64)      1792      \n",
      "                                                                 \n",
      " block1_conv2 (Conv2D)       (None, 225, 225, 64)      36928     \n",
      "                                                                 \n",
      " block1_pool (MaxPooling2D)  (None, 112, 112, 64)      0         \n",
      "                                                                 \n",
      " block2_conv1 (Conv2D)       (None, 112, 112, 128)     73856     \n",
      "                                                                 \n",
      " block2_conv2 (Conv2D)       (None, 112, 112, 128)     147584    \n",
      "                                                                 \n",
      " block2_pool (MaxPooling2D)  (None, 56, 56, 128)       0         \n",
      "                                                                 \n",
      " block3_conv1 (Conv2D)       (None, 56, 56, 256)       295168    \n",
      "                                                                 \n",
      " block3_conv2 (Conv2D)       (None, 56, 56, 256)       590080    \n",
      "                                                                 \n",
      " block3_conv3 (Conv2D)       (None, 56, 56, 256)       590080    \n",
      "                                                                 \n",
      " block3_pool (MaxPooling2D)  (None, 28, 28, 256)       0         \n",
      "                                                                 \n",
      " block4_conv1 (Conv2D)       (None, 28, 28, 512)       1180160   \n",
      "                                                                 \n",
      " block4_conv2 (Conv2D)       (None, 28, 28, 512)       2359808   \n",
      "                                                                 \n",
      " block4_conv3 (Conv2D)       (None, 28, 28, 512)       2359808   \n",
      "                                                                 \n",
      " block4_pool (MaxPooling2D)  (None, 14, 14, 512)       0         \n",
      "                                                                 \n",
      " block5_conv1 (Conv2D)       (None, 14, 14, 512)       2359808   \n",
      "                                                                 \n",
      " block5_conv2 (Conv2D)       (None, 14, 14, 512)       2359808   \n",
      "                                                                 \n",
      " block5_conv3 (Conv2D)       (None, 14, 14, 512)       2359808   \n",
      "                                                                 \n",
      " block5_pool (MaxPooling2D)  (None, 7, 7, 512)         0         \n",
      "                                                                 \n",
      " flatten (Flatten)           (None, 25088)             0         \n",
      "                                                                 \n",
      " dense (Dense)               (None, 256)               6422784   \n",
      "                                                                 \n",
      " dense_1 (Dense)             (None, 128)               32896     \n",
      "                                                                 \n",
      " dense_2 (Dense)             (None, 64)                8256      \n",
      "                                                                 \n",
      " dense_3 (Dense)             (None, 32)                2080      \n",
      "                                                                 \n",
      " dense_4 (Dense)             (None, 3)                 99        \n",
      "                                                                 \n",
      "=================================================================\n",
      "Total params: 21180803 (80.80 MB)\n",
      "Trainable params: 6466115 (24.67 MB)\n",
      "Non-trainable params: 14714688 (56.13 MB)\n",
      "_________________________________________________________________\n"
     ]
    }
   ],
   "source": [
    "model.summary()\n"
   ]
  },
  {
   "cell_type": "code",
   "execution_count": 11,
   "metadata": {},
   "outputs": [
    {
     "name": "stdout",
     "output_type": "stream",
     "text": [
      "Found 16 images belonging to 3 classes.\n",
      "Found 6 images belonging to 3 classes.\n"
     ]
    },
    {
     "name": "stdout",
     "output_type": "stream",
     "text": [
      "Epoch 1/25\n",
      "WARNING:tensorflow:From c:\\Users\\Devan\\AppData\\Local\\Programs\\Python\\Python311\\Lib\\site-packages\\keras\\src\\utils\\tf_utils.py:492: The name tf.ragged.RaggedTensorValue is deprecated. Please use tf.compat.v1.ragged.RaggedTensorValue instead.\n",
      "\n",
      "WARNING:tensorflow:From c:\\Users\\Devan\\AppData\\Local\\Programs\\Python\\Python311\\Lib\\site-packages\\keras\\src\\engine\\base_layer_utils.py:384: The name tf.executing_eagerly_outside_functions is deprecated. Please use tf.compat.v1.executing_eagerly_outside_functions instead.\n",
      "\n",
      "1/1 [==============================] - 3s 3s/step - loss: 1.0815 - accuracy: 0.3750 - val_loss: 1.1162 - val_accuracy: 0.3333\n",
      "Epoch 2/25\n",
      "1/1 [==============================] - 2s 2s/step - loss: 0.7443 - accuracy: 0.7500 - val_loss: 2.1171 - val_accuracy: 0.6667\n",
      "Epoch 3/25\n",
      "1/1 [==============================] - 2s 2s/step - loss: 1.3071 - accuracy: 0.7500 - val_loss: 1.8555 - val_accuracy: 0.3333\n",
      "Epoch 4/25\n",
      "1/1 [==============================] - 2s 2s/step - loss: 1.1993 - accuracy: 0.5000 - val_loss: 0.5974 - val_accuracy: 0.6667\n",
      "Epoch 5/25\n",
      "1/1 [==============================] - 2s 2s/step - loss: 0.1363 - accuracy: 1.0000 - val_loss: 1.1672 - val_accuracy: 0.3333\n",
      "Epoch 6/25\n",
      "1/1 [==============================] - 2s 2s/step - loss: 0.3932 - accuracy: 0.7500 - val_loss: 0.4751 - val_accuracy: 0.8333\n",
      "Epoch 7/25\n",
      "1/1 [==============================] - 2s 2s/step - loss: 0.0952 - accuracy: 0.9375 - val_loss: 0.2285 - val_accuracy: 1.0000\n",
      "Epoch 8/25\n",
      "1/1 [==============================] - 2s 2s/step - loss: 0.0171 - accuracy: 1.0000 - val_loss: 0.4218 - val_accuracy: 0.8333\n",
      "Epoch 9/25\n",
      "1/1 [==============================] - 2s 2s/step - loss: 0.0384 - accuracy: 1.0000 - val_loss: 0.8457 - val_accuracy: 0.6667\n",
      "Epoch 10/25\n",
      "1/1 [==============================] - 2s 2s/step - loss: 0.0304 - accuracy: 1.0000 - val_loss: 1.1065 - val_accuracy: 0.6667\n",
      "Epoch 11/25\n",
      "1/1 [==============================] - 2s 2s/step - loss: 0.0219 - accuracy: 1.0000 - val_loss: 1.0015 - val_accuracy: 0.6667\n",
      "Epoch 12/25\n",
      "1/1 [==============================] - 2s 2s/step - loss: 0.0475 - accuracy: 1.0000 - val_loss: 0.6115 - val_accuracy: 0.6667\n",
      "Epoch 13/25\n",
      "1/1 [==============================] - 2s 2s/step - loss: 0.0039 - accuracy: 1.0000 - val_loss: 0.5744 - val_accuracy: 0.6667\n",
      "Epoch 14/25\n",
      "1/1 [==============================] - 2s 2s/step - loss: 0.0025 - accuracy: 1.0000 - val_loss: 0.3156 - val_accuracy: 0.8333\n",
      "Epoch 15/25\n",
      "1/1 [==============================] - 2s 2s/step - loss: 0.0011 - accuracy: 1.0000 - val_loss: 0.0856 - val_accuracy: 1.0000\n",
      "Epoch 16/25\n",
      "1/1 [==============================] - 2s 2s/step - loss: 0.0047 - accuracy: 1.0000 - val_loss: 0.2888 - val_accuracy: 0.6667\n",
      "Epoch 17/25\n",
      "1/1 [==============================] - 2s 2s/step - loss: 0.0044 - accuracy: 1.0000 - val_loss: 0.0447 - val_accuracy: 1.0000\n",
      "Epoch 18/25\n",
      "1/1 [==============================] - 2s 2s/step - loss: 0.0220 - accuracy: 1.0000 - val_loss: 0.3044 - val_accuracy: 0.8333\n",
      "Epoch 19/25\n",
      "1/1 [==============================] - 2s 2s/step - loss: 5.0067e-04 - accuracy: 1.0000 - val_loss: 0.3352 - val_accuracy: 0.8333\n",
      "Epoch 20/25\n",
      "1/1 [==============================] - 2s 2s/step - loss: 0.0053 - accuracy: 1.0000 - val_loss: 0.0515 - val_accuracy: 1.0000\n",
      "Epoch 21/25\n",
      "1/1 [==============================] - 2s 2s/step - loss: 4.5059e-04 - accuracy: 1.0000 - val_loss: 0.8551 - val_accuracy: 0.8333\n",
      "Epoch 22/25\n",
      "1/1 [==============================] - 2s 2s/step - loss: 0.0056 - accuracy: 1.0000 - val_loss: 0.1464 - val_accuracy: 1.0000\n",
      "Epoch 23/25\n",
      "1/1 [==============================] - 2s 2s/step - loss: 2.1084e-04 - accuracy: 1.0000 - val_loss: 0.9828 - val_accuracy: 0.5000\n",
      "Epoch 24/25\n",
      "1/1 [==============================] - 2s 2s/step - loss: 0.0055 - accuracy: 1.0000 - val_loss: 0.4034 - val_accuracy: 0.8333\n",
      "Epoch 25/25\n",
      "1/1 [==============================] - 2s 2s/step - loss: 0.0092 - accuracy: 1.0000 - val_loss: 0.3869 - val_accuracy: 0.8333\n",
      "Training Completed!\n"
     ]
    }
   ],
   "source": [
    "train_datagen = ImageDataGenerator(rescale=1.0/255,\n",
    "                                     rotation_range=20,\n",
    "                                     width_shift_range=0.2,\n",
    "                                     height_shift_range=0.2,\n",
    "                                     horizontal_flip=True,\n",
    "                                     fill_mode='nearest')\n",
    "\n",
    "train_generator = train_datagen.flow_from_directory(directory=train_dir,\n",
    "                                                    target_size=(225,225), \n",
    "                                                    shuffle=False, \n",
    "                                                    class_mode='categorical')\n",
    "\n",
    "validation_datagen = ImageDataGenerator(rescale=1.0/255,\n",
    "                                     rotation_range=20,\n",
    "                                     width_shift_range=0.2,\n",
    "                                     height_shift_range=0.2,\n",
    "                                     horizontal_flip=True,\n",
    "                                     fill_mode='nearest')\n",
    "validation_generator = validation_datagen.flow_from_directory(directory=val_dir, \n",
    "                                                              target_size=(225,225),\n",
    "                                                              shuffle=False, \n",
    "                                                              class_mode='categorical')\n",
    "\n",
    "training_steps_per_epoch = np.ceil(train_generator.samples / BATCH_SIZE)\n",
    "validation_steps_per_epoch = np.ceil(validation_generator.samples / BATCH_SIZE)\n",
    "\n",
    "history = model.fit(train_generator, \n",
    "                    steps_per_epoch = training_steps_per_epoch, \n",
    "                    validation_data=validation_generator, \n",
    "                    validation_steps=validation_steps_per_epoch,\n",
    "                    epochs=25, \n",
    "                    verbose=1)\n",
    "\n",
    "print('Training Completed!')"
   ]
  },
  {
   "cell_type": "code",
   "execution_count": 12,
   "metadata": {},
   "outputs": [
    {
     "data": {
      "image/png": "[encoded data removed]",
      "text/plain": [
       "<Figure size 640x480 with 1 Axes>"
      ]
     },
     "metadata": {},
     "output_type": "display_data"
    },
    {
     "name": "stdout",
     "output_type": "stream",
     "text": [
      "\n"
     ]
    },
    {
     "data": {
      "image/png": "[encoded data removed]",
      "text/plain": [
       "<Figure size 640x480 with 1 Axes>"
      ]
     },
     "metadata": {},
     "output_type": "display_data"
    }
   ],
   "source": [
    "acc=history.history['accuracy']\n",
    "val_acc=history.history['val_accuracy']\n",
    "loss=history.history['loss']\n",
    "val_loss=history.history['val_loss']\n",
    "\n",
    "epochs=range(len(acc))\n",
    "plt.plot(epochs, acc, 'r', \"Training Accuracy\")\n",
    "plt.plot(epochs, val_acc, 'b', \"Validation Accuracy\")\n",
    "plt.title('Training and validation accuracy')\n",
    "plt.show()\n",
    "print(\"\")\n",
    "plt.plot(epochs, loss, 'r', \"Training Loss\")\n",
    "plt.plot(epochs, val_loss, 'b', \"Validation Loss\")\n",
    "plt.show()"
   ]
  },
  {
   "cell_type": "code",
   "execution_count": 14,
   "metadata": {},
   "outputs": [
    {
     "name": "stderr",
     "output_type": "stream",
     "text": [
      "C:\\Users\\Devan\\AppData\\Local\\Temp\\ipykernel_17540\\2404799955.py:4: UserWarning: `Model.predict_generator` is deprecated and will be removed in a future version. Please use `Model.predict`, which supports generators.\n",
      "  Y_pred = model.predict_generator(validation_generator)\n"
     ]
    },
    {
     "name": "stdout",
     "output_type": "stream",
     "text": [
      "[[2 0 0]\n",
      " [1 1 0]\n",
      " [0 0 2]]\n",
      "              precision    recall  f1-score   support\n",
      "\n",
      "       botol       0.67      1.00      0.80         2\n",
      "      kaleng       1.00      0.50      0.67         2\n",
      "     Organik       1.00      1.00      1.00         2\n",
      "\n",
      "    accuracy                           0.83         6\n",
      "   macro avg       0.89      0.83      0.82         6\n",
      "weighted avg       0.89      0.83      0.82         6\n",
      "\n"
     ]
    },
    {
     "data": {
      "image/png": "[encoded data removed]",
      "text/plain": [
       "<Figure size 1000x1000 with 1 Axes>"
      ]
     },
     "metadata": {},
     "output_type": "display_data"
    }
   ],
   "source": [
    "from mlxtend.plotting import plot_confusion_matrix\n",
    "from sklearn.metrics import confusion_matrix, classification_report\n",
    "\n",
    "Y_pred = model.predict_generator(validation_generator)\n",
    "y_pred = np.argmax(Y_pred, axis=1)\n",
    "mat = confusion_matrix(validation_generator.classes, y_pred)\n",
    "print(mat)\n",
    "plot_confusion_matrix(conf_mat=mat, figsize=(10,10), class_names= list)\n",
    "print(classification_report(validation_generator.classes, y_pred, target_names=list))"
   ]
  },
  {
   "cell_type": "code",
   "execution_count": 15,
   "metadata": {},
   "outputs": [
    {
     "name": "stdout",
     "output_type": "stream",
     "text": [
      "INFO:tensorflow:Assets written to: saved_model/model1\\assets\n"
     ]
    },
    {
     "name": "stderr",
     "output_type": "stream",
     "text": [
      "INFO:tensorflow:Assets written to: saved_model/model1\\assets\n"
     ]
    }
   ],
   "source": [
    "model.save('saved_model/model1')"
   ]
  }
 ],
 "metadata": {
  "kernelspec": {
   "display_name": "Python 3",
   "language": "python",
   "name": "python3"
  },
  "language_info": {
   "codemirror_mode": {
    "name": "ipython",
    "version": 3
   },
   "file_extension": ".py",
   "mimetype": "text/x-python",
   "name": "python",
   "nbconvert_exporter": "python",
   "pygments_lexer": "ipython3",
   "version": "3.11.3"
  }
 },
 "nbformat": 4,
 "nbformat_minor": 2
}
